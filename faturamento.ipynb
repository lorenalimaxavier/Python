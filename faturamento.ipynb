{
 "cells": [
  {
   "cell_type": "markdown",
   "id": "bf2c8e71-2c36-4a91-9727-055ff07d5b08",
   "metadata": {},
   "source": [
    "# Exercícios do Módulo 1 - Operações, Variáveis e Input"
   ]
  },
  {
   "cell_type": "markdown",
   "id": "9b5ce818-c5b7-4db5-ad11-0c9080b8c37d",
   "metadata": {},
   "source": [
    "### Parte 1 - Operações e Variáveis\n",
    "Crie um programa que imprima (print) os principais indicadores da loja Hashtag&Drink no último ano.\n",
    "Obs: faça tudo usando variáveis.\n",
    "\n",
    "Valores do último ano:\n",
    "\n",
    "Quantidade de Vendas de Coca = 150<br>\n",
    "Quantidade de Vendas de Pepsi = 130<br>\n",
    "Preço Unitário da Coca = 1,50 <br>\n",
    "Preço Unitário da Pepsi = 1,50<br>\n",
    "Custo da Loja: 2.500,00\n",
    "\n",
    "Use o bloco abaixo para criar todas as variáveis que precisar.\n"
   ]
  },
  {
   "cell_type": "code",
   "execution_count": 1,
   "id": "4cce6916-3a9e-4f96-9e19-b45c5ce7c9e3",
   "metadata": {},
   "outputs": [],
   "source": [
    "qtde_pepsi = 130\n",
    "preco_pepsi = 1.50\n",
    "qtde_coca = 150\n",
    "preco_coca = 1.50\n",
    "custo = 2500"
   ]
  },
  {
   "cell_type": "markdown",
   "id": "de059035-9e5f-4ca0-974d-3df287f3b5f5",
   "metadata": {},
   "source": [
    "1.Qual foi o faturamento de Pepsi da loja?"
   ]
  },
  {
   "cell_type": "code",
   "execution_count": 2,
   "id": "fcb62a3d-31f8-46fc-93d8-418f5b6dd2e4",
   "metadata": {},
   "outputs": [
    {
     "name": "stdout",
     "output_type": "stream",
     "text": [
      "195.0\n"
     ]
    }
   ],
   "source": [
    "print(qtde_pepsi * preco_pepsi)"
   ]
  },
  {
   "cell_type": "markdown",
   "id": "a3a75f82-db2a-4687-9bdf-8a5874230b5f",
   "metadata": {},
   "source": [
    "2.Qual foi o faturamento de Coca da loja?"
   ]
  },
  {
   "cell_type": "code",
   "execution_count": 3,
   "id": "82b2a24e-3753-4e96-a8c3-596bece7dd7b",
   "metadata": {},
   "outputs": [
    {
     "name": "stdout",
     "output_type": "stream",
     "text": [
      "225.0\n"
     ]
    }
   ],
   "source": [
    "print(qtde_coca * preco_coca)"
   ]
  },
  {
   "cell_type": "markdown",
   "id": "587d4e08-31cb-4cd3-9d89-1c6d0a4aba64",
   "metadata": {},
   "source": [
    "3.Qual foi o lucro da loja?"
   ]
  },
  {
   "cell_type": "code",
   "execution_count": 5,
   "id": "163040c3-e53c-4885-acfa-48cd971ba130",
   "metadata": {},
   "outputs": [
    {
     "name": "stdout",
     "output_type": "stream",
     "text": [
      "420.0\n",
      "-2080.0\n"
     ]
    }
   ],
   "source": [
    "faturamento = qtde_pepsi * preco_pepsi + qtde_coca * preco_coca\n",
    "print(faturamento)\n",
    "lucro = faturamento - custo\n",
    "print(lucro)"
   ]
  },
  {
   "cell_type": "markdown",
   "id": "a4ef5bef-f77c-49b9-9d69-7ed09ad8919e",
   "metadata": {},
   "source": [
    "4.Qual foi a margem da loja?(Lembre-se, margem = lucro/faturamento). Não precisa formatar em percentual."
   ]
  },
  {
   "cell_type": "code",
   "execution_count": 6,
   "id": "d85213eb-37bd-4d9f-8b64-0dee0db74399",
   "metadata": {},
   "outputs": [
    {
     "name": "stdout",
     "output_type": "stream",
     "text": [
      "-4.9523809523809526\n"
     ]
    }
   ],
   "source": [
    "margem = lucro/faturamento\n",
    "print(margem)"
   ]
  },
  {
   "cell_type": "code",
   "execution_count": null,
   "id": "872a8b4f-33fb-40b2-8ccd-b4bdfd493d29",
   "metadata": {},
   "outputs": [],
   "source": []
  }
 ],
 "metadata": {
  "kernelspec": {
   "display_name": "Python 3 (ipykernel)",
   "language": "python",
   "name": "python3"
  },
  "language_info": {
   "codemirror_mode": {
    "name": "ipython",
    "version": 3
   },
   "file_extension": ".py",
   "mimetype": "text/x-python",
   "name": "python",
   "nbconvert_exporter": "python",
   "pygments_lexer": "ipython3",
   "version": "3.12.7"
  }
 },
 "nbformat": 4,
 "nbformat_minor": 5
}
